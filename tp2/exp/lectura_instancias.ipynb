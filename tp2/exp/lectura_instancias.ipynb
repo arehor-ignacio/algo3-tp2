{
 "cells": [
  {
   "cell_type": "code",
   "execution_count": null,
   "metadata": {},
   "outputs": [],
   "source": [
    "import pandas as pd\n",
    "import tsplib95 as tl\n",
    "import tsp"
   ]
  },
  {
   "cell_type": "code",
   "execution_count": null,
   "metadata": {},
   "outputs": [],
   "source": [
    "df_instancias = pd.read_csv('instancias.csv')\n",
    "df_instancias['dim'].describe()"
   ]
  },
  {
   "cell_type": "markdown",
   "metadata": {},
   "source": [
    "Nos quedamos con las instancias de dimensión menor a 100. Estas instancias representan el 25% del total de las instancias descargadas. Son 28 las instancias que cumplen este criterio."
   ]
  },
  {
   "cell_type": "code",
   "execution_count": null,
   "metadata": {},
   "outputs": [],
   "source": [
    "df_dim_baja = df_instancias[df_instancias['dim'] <= 100]\n",
    "df_dim_baja['dim'].describe()"
   ]
  },
  {
   "cell_type": "code",
   "execution_count": null,
   "metadata": {},
   "outputs": [],
   "source": [
    "df_dim_baja['instancia'].count() / df_instancias['instancia'].count()"
   ]
  },
  {
   "cell_type": "code",
   "execution_count": null,
   "metadata": {},
   "outputs": [],
   "source": [
    "for i in df_dim_baja['instancia']:\n",
    "    tsp.generar_instancia('./i_tsp/' + i + '.tsp', './i_txt/' + i + '.txt')"
   ]
  }
 ],
 "metadata": {
  "kernelspec": {
   "display_name": "Python 3.9.3 64-bit ('algo3-tp1': venv)",
   "language": "python",
   "name": "python39364bitalgo3tp1venv54ff8ce56bdc45bab5a277cf08d2b074"
  },
  "language_info": {
   "codemirror_mode": {
    "name": "ipython",
    "version": 3
   },
   "file_extension": ".py",
   "mimetype": "text/x-python",
   "name": "python",
   "nbconvert_exporter": "python",
   "pygments_lexer": "ipython3",
   "version": "3.9.5"
  }
 },
 "nbformat": 4,
 "nbformat_minor": 4
}
