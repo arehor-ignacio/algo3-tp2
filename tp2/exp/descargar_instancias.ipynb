{
 "cells": [
  {
   "cell_type": "code",
   "execution_count": 1,
   "id": "15439331",
   "metadata": {},
   "outputs": [],
   "source": [
    "import pandas as pd\n",
    "import requests"
   ]
  },
  {
   "cell_type": "code",
   "execution_count": 2,
   "id": "44e7a9f9",
   "metadata": {},
   "outputs": [],
   "source": [
    "URL = 'http://elib.zib.de/pub/mp-testdata/tsp/tsplib/tsp/'\n",
    "df_instances = pd.read_csv('instancias.csv')"
   ]
  },
  {
   "cell_type": "code",
   "execution_count": 3,
   "id": "4582dc29",
   "metadata": {},
   "outputs": [],
   "source": [
    "for i in df_instances['instancia']:\n",
    "    r = requests.get(URL + i + '.tsp')\n",
    "    with open('./i_tsp/' + i + '.tsp','wb') as output_file:\n",
    "        output_file.write(r.content)"
   ]
  }
 ],
 "metadata": {
  "kernelspec": {
   "display_name": "Python 3.9.3 64-bit ('algo3-tp1': venv)",
   "language": "python",
   "name": "python39364bitalgo3tp1venv54ff8ce56bdc45bab5a277cf08d2b074"
  },
  "language_info": {
   "codemirror_mode": {
    "name": "ipython",
    "version": 3
   },
   "file_extension": ".py",
   "mimetype": "text/x-python",
   "name": "python",
   "nbconvert_exporter": "python",
   "pygments_lexer": "ipython3",
   "version": "3.9.5"
  }
 },
 "nbformat": 4,
 "nbformat_minor": 5
}
