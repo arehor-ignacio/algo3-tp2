{
 "cells": [
  {
   "cell_type": "code",
   "execution_count": null,
   "id": "e5ed8a26",
   "metadata": {},
   "outputs": [],
   "source": [
    "import pandas as pd\n",
    "import seaborn as sns\n",
    "import matplotlib.pyplot as plt\n",
    "import tsp\n",
    "import tqdm"
   ]
  },
  {
   "cell_type": "code",
   "execution_count": null,
   "id": "2edbfd5a",
   "metadata": {},
   "outputs": [],
   "source": [
    "sns.set_style('darkgrid')"
   ]
  },
  {
   "cell_type": "markdown",
   "id": "fcea03e6",
   "metadata": {},
   "source": [
    "**Análisis del redimiento de las heurísticas golosas**"
   ]
  },
  {
   "cell_type": "code",
   "execution_count": null,
   "id": "a4a57c79",
   "metadata": {},
   "outputs": [],
   "source": [
    "df_greedy = pd.read_csv('greedy.csv')\n",
    "df_greedy = df_greedy.astype({'dim' : 'int64', 'tiempo' : 'float', 'costo' : 'int64', 'gap' : 'float'})\n",
    "\n",
    "instancias_patologicas = df_greedy[df_greedy['gap'] > 1]['instancia'].values\n",
    "df_greedy = df_greedy[(~df_greedy['instancia'].isin(instancias_patologicas)) & (df_greedy['dim'] <= 100)]"
   ]
  },
  {
   "cell_type": "code",
   "execution_count": null,
   "id": "98b67bd6",
   "metadata": {},
   "outputs": [],
   "source": [
    "plt.figure(figsize=(15,8))\n",
    "ax = sns.boxplot(data=df_greedy, y='gap', x='heuristica')\n",
    "ax.set_title('Gap relativo de las distintas heurísticas')\n",
    "plt.savefig(\"img/greedy_gap_box.svg\")"
   ]
  },
  {
   "cell_type": "code",
   "execution_count": null,
   "id": "a5a83beb",
   "metadata": {},
   "outputs": [],
   "source": [
    "plt.figure(figsize=(15,8))\n",
    "ax = sns.pointplot(data=df_greedy.sort_values(by=['dim']), x=\"instancia\", y=\"gap\", hue=\"heuristica\", hue_order=['NN', 'FI', 'AGM'])\n",
    "ax.xaxis.grid(True)\n",
    "plt.xticks(rotation=45)\n",
    "ax.set_title('Gap relativo de las heurísticas golosas implementadas')\n",
    "plt.savefig(\"img/greedy_gap_low.svg\")"
   ]
  },
  {
   "cell_type": "code",
   "execution_count": null,
   "id": "8114f2e8",
   "metadata": {},
   "outputs": [],
   "source": [
    "ax = sns.pointplot(data=df_greedy, x=\"dim\", y=\"gap\", hue=\"heuristica\", hue_order=['NN', 'FI', 'AGM'])\n",
    "ax.xaxis.grid(True)\n",
    "ax.set_title('Gap relativo de las heurísticas golosas implementadas')\n",
    "plt.savefig(\"img/greedy_gap_dim_low.svg\")"
   ]
  },
  {
   "cell_type": "code",
   "execution_count": null,
   "id": "cb1267ea",
   "metadata": {},
   "outputs": [],
   "source": [
    "plt.figure(figsize=(15,8))\n",
    "ax = sns.pointplot(data=df_greedy.sort_values(by=['dim']), x=\"instancia\", y=\"tiempo\", hue=\"heuristica\", hue_order=['NN', 'FI', 'AGM'])\n",
    "ax.xaxis.grid(True)\n",
    "plt.xticks(rotation=45)\n",
    "ax.set_title('Tiempo de ejecución de las heurísticas golosas implementadas')\n",
    "ax.set_ylabel('tiempo (ms)')\n",
    "plt.savefig(\"img/greedy_time_low.svg\")"
   ]
  },
  {
   "cell_type": "code",
   "execution_count": null,
   "id": "61c5b036",
   "metadata": {},
   "outputs": [],
   "source": [
    "ax = sns.pointplot(data=df_greedy, x=\"dim\", y=\"tiempo\", hue=\"heuristica\", hue_order=['NN', 'FI', 'AGM'])\n",
    "ax.xaxis.grid(True)\n",
    "ax.set_title('Tiempo de ejecución de las heurísticas golosas implementadas')\n",
    "ax.set_ylabel('tiempo (ms)')\n",
    "plt.savefig(\"img/greedy_time_dim_low.svg\")"
   ]
  },
  {
   "cell_type": "markdown",
   "id": "db3226b7",
   "metadata": {},
   "source": [
    "**Análisis de los experimentos de tabúSearch**"
   ]
  },
  {
   "cell_type": "code",
   "execution_count": null,
   "id": "00d024d9",
   "metadata": {},
   "outputs": [],
   "source": [
    "df_tabu = pd.read_csv('tabu.csv')\n",
    "df_tabu = df_tabu.astype({'dim': 'int64', 'tiempo': 'float64', 'costo': 'int64', 'gap':'float64', 'iteraciones': 'int64', 'memoria': 'int64', 'vecindad': 'int64'})"
   ]
  },
  {
   "cell_type": "code",
   "execution_count": null,
   "id": "45734032",
   "metadata": {},
   "outputs": [],
   "source": [
    "MEMORIA = [50, 100, 200, 500, 1000]\n",
    "plt.figure(figsize=(15,8))\n",
    "ax = sns.pointplot(data=df_tabu[(df_tabu['iteraciones'] == 1000) & (df_tabu['vecindad'] == 100) & (df_tabu['memoria'] == 1000)].sort_values(by=['dim']), x=\"instancia\", y=\"tiempo\", hue=\"heuristica\", hue_order=['TS-C', 'TS-S'])\n",
    "ax.xaxis.grid(True)\n",
    "plt.xticks(rotation=45)"
   ]
  },
  {
   "cell_type": "markdown",
   "id": "5cc38667",
   "metadata": {},
   "source": [
    "**Impacto de parámetros : Tamaño de memoria e instancia evaluada - Gap**"
   ]
  },
  {
   "cell_type": "code",
   "execution_count": null,
   "id": "1c361d92",
   "metadata": {},
   "outputs": [],
   "source": [
    "f, axs = plt.subplots(1, 2, figsize=(12, 4), gridspec_kw=dict(width_ratios=[4, 2]))\n",
    "pplot = sns.pointplot(data=df_tabu[(df_tabu['iteraciones'] == 1000) & (df_tabu['vecindad'] == 100) & (df_tabu['memoria'] == 50)].sort_values(by=['dim']), x=\"instancia\", y=\"gap\", hue=\"heuristica\", ax=axs[0], hue_order=['TS-C', 'TS-S'])\n",
    "bplot = sns.boxplot(data=df_tabu[(df_tabu['iteraciones'] == 1000) & (df_tabu['vecindad'] == 100) & (df_tabu['memoria'] == 50)], x=\"heuristica\", y=\"gap\", ax=axs[1])\n",
    "plt.setp(axs[0].xaxis.get_majorticklabels(), rotation=90)\n",
    "axs[0].grid(True)\n",
    "f.tight_layout()\n",
    "plt.savefig(\"img/tabu_mem_instancia_50.svg\")"
   ]
  },
  {
   "cell_type": "code",
   "execution_count": null,
   "id": "fc3349d9",
   "metadata": {},
   "outputs": [],
   "source": [
    "f, axs = plt.subplots(1, 2, figsize=(12, 4), gridspec_kw=dict(width_ratios=[4, 2]))\n",
    "pplot = sns.pointplot(data=df_tabu[(df_tabu['iteraciones'] == 1000) & (df_tabu['vecindad'] == 100) & (df_tabu['memoria'] == 100)].sort_values(by=['dim']), x=\"instancia\", y=\"gap\", hue=\"heuristica\", ax=axs[0], hue_order=['TS-C', 'TS-S'])\n",
    "bplot = sns.boxplot(data=df_tabu[(df_tabu['iteraciones'] == 1000) & (df_tabu['vecindad'] == 100) & (df_tabu['memoria'] == 100)], x=\"heuristica\", y=\"gap\", ax=axs[1])\n",
    "plt.setp(axs[0].xaxis.get_majorticklabels(), rotation=90)\n",
    "axs[0].grid(True)\n",
    "f.tight_layout()\n",
    "plt.savefig(\"img/tabu_mem_instancia_100.svg\")"
   ]
  },
  {
   "cell_type": "code",
   "execution_count": null,
   "id": "b4082277",
   "metadata": {},
   "outputs": [],
   "source": [
    "f, axs = plt.subplots(1, 2, figsize=(12, 4), gridspec_kw=dict(width_ratios=[4, 2]))\n",
    "pplot = sns.pointplot(data=df_tabu[(df_tabu['iteraciones'] == 1000) & (df_tabu['vecindad'] == 100) & (df_tabu['memoria'] == 200)].sort_values(by=['dim']), x=\"instancia\", y=\"gap\", hue=\"heuristica\", ax=axs[0], hue_order=['TS-C', 'TS-S'])\n",
    "bplot = sns.boxplot(data=df_tabu[(df_tabu['iteraciones'] == 1000) & (df_tabu['vecindad'] == 100) & (df_tabu['memoria'] == 200)], x=\"heuristica\", y=\"gap\", ax=axs[1])\n",
    "plt.setp(axs[0].xaxis.get_majorticklabels(), rotation=90)\n",
    "axs[0].grid(True)\n",
    "f.tight_layout()\n",
    "plt.savefig(\"img/tabu_mem_instancia_200.svg\")"
   ]
  },
  {
   "cell_type": "code",
   "execution_count": null,
   "id": "31166860",
   "metadata": {},
   "outputs": [],
   "source": [
    "f, axs = plt.subplots(1, 2, figsize=(12, 4), gridspec_kw=dict(width_ratios=[4, 2]))\n",
    "pplot = sns.pointplot(data=df_tabu[(df_tabu['iteraciones'] == 1000) & (df_tabu['vecindad'] == 100) & (df_tabu['memoria'] == 500)].sort_values(by=['dim']), x=\"instancia\", y=\"gap\", hue=\"heuristica\", ax=axs[0], hue_order=['TS-C', 'TS-S'])\n",
    "bplot = sns.boxplot(data=df_tabu[(df_tabu['iteraciones'] == 1000) & (df_tabu['vecindad'] == 100) & (df_tabu['memoria'] == 500)], x=\"heuristica\", y=\"gap\", ax=axs[1])\n",
    "plt.setp(axs[0].xaxis.get_majorticklabels(), rotation=90)\n",
    "axs[0].grid(True)\n",
    "f.tight_layout()\n",
    "plt.savefig(\"img/tabu_mem_instancia_500.svg\")"
   ]
  },
  {
   "cell_type": "code",
   "execution_count": null,
   "id": "c566ba2d",
   "metadata": {},
   "outputs": [],
   "source": [
    "f, axs = plt.subplots(1, 2, figsize=(12, 4), gridspec_kw=dict(width_ratios=[4, 2]))\n",
    "pplot = sns.pointplot(data=df_tabu[(df_tabu['iteraciones'] == 1000) & (df_tabu['vecindad'] == 100) & (df_tabu['memoria'] == 1000)].sort_values(by=['dim']), x=\"instancia\", y=\"gap\", hue=\"heuristica\", ax=axs[0], hue_order=['TS-C', 'TS-S'])\n",
    "bplot = sns.boxplot(data=df_tabu[(df_tabu['iteraciones'] == 1000) & (df_tabu['vecindad'] == 100) & (df_tabu['memoria'] == 1000)], x=\"heuristica\", y=\"gap\", ax=axs[1])\n",
    "plt.setp(axs[0].xaxis.get_majorticklabels(), rotation=90)\n",
    "axs[0].grid(True)\n",
    "f.tight_layout()\n",
    "plt.savefig(\"img/tabu_mem_instancia_1000.svg\")"
   ]
  },
  {
   "cell_type": "markdown",
   "id": "dc6cbaab",
   "metadata": {},
   "source": [
    "**Impacto de parámetros : Tamaño de memoria e instancia evaluada - Tiempo de ejecución**"
   ]
  },
  {
   "cell_type": "code",
   "execution_count": null,
   "id": "74818a0b",
   "metadata": {},
   "outputs": [],
   "source": [
    "f, axs = plt.subplots(1, 2, figsize=(12, 4), gridspec_kw=dict(width_ratios=[4, 2]))\n",
    "pplot = sns.pointplot(data=df_tabu[(df_tabu['iteraciones'] == 1000) & (df_tabu['vecindad'] == 100) & (df_tabu['memoria'] == 50)].sort_values(by=['dim']), x=\"instancia\", y=\"tiempo\", hue=\"heuristica\", ax=axs[0], hue_order=['TS-C', 'TS-S'])\n",
    "bplot = sns.boxplot(data=df_tabu[(df_tabu['iteraciones'] == 1000) & (df_tabu['vecindad'] == 100) & (df_tabu['memoria'] == 50)], x=\"heuristica\", y=\"tiempo\", ax=axs[1])\n",
    "plt.setp(axs[0].xaxis.get_majorticklabels(), rotation=90)\n",
    "axs[0].grid(True)\n",
    "f.tight_layout()\n",
    "plt.savefig(\"img/tabu_mem_50_tiempo.svg\")"
   ]
  },
  {
   "cell_type": "code",
   "execution_count": null,
   "id": "5e4bf845",
   "metadata": {},
   "outputs": [],
   "source": [
    "f, axs = plt.subplots(1, 2, figsize=(12, 4), gridspec_kw=dict(width_ratios=[4, 2]))\n",
    "pplot = sns.pointplot(data=df_tabu[(df_tabu['iteraciones'] == 1000) & (df_tabu['vecindad'] == 100) & (df_tabu['memoria'] == 100)].sort_values(by=['dim']), x=\"instancia\", y=\"tiempo\", hue=\"heuristica\", ax=axs[0], hue_order=['TS-C', 'TS-S'])\n",
    "bplot = sns.boxplot(data=df_tabu[(df_tabu['iteraciones'] == 1000) & (df_tabu['vecindad'] == 100) & (df_tabu['memoria'] == 100)], x=\"heuristica\", y=\"tiempo\", ax=axs[1])\n",
    "plt.setp(axs[0].xaxis.get_majorticklabels(), rotation=90)\n",
    "axs[0].grid(True)\n",
    "f.tight_layout()\n",
    "plt.savefig(\"img/tabu_mem_100_tiempo.svg\")"
   ]
  },
  {
   "cell_type": "code",
   "execution_count": null,
   "id": "5da2b3d2",
   "metadata": {},
   "outputs": [],
   "source": [
    "f, axs = plt.subplots(1, 2, figsize=(12, 4), gridspec_kw=dict(width_ratios=[4, 2]))\n",
    "pplot = sns.pointplot(data=df_tabu[(df_tabu['iteraciones'] == 1000) & (df_tabu['vecindad'] == 100) & (df_tabu['memoria'] == 200)].sort_values(by=['dim']), x=\"instancia\", y=\"tiempo\", hue=\"heuristica\", ax=axs[0], hue_order=['TS-C', 'TS-S'])\n",
    "bplot = sns.boxplot(data=df_tabu[(df_tabu['iteraciones'] == 1000) & (df_tabu['vecindad'] == 100) & (df_tabu['memoria'] == 200)], x=\"heuristica\", y=\"tiempo\", ax=axs[1])\n",
    "plt.setp(axs[0].xaxis.get_majorticklabels(), rotation=90)\n",
    "axs[0].grid(True)\n",
    "f.tight_layout()\n",
    "plt.savefig(\"img/tabu_mem_200_tiempo.svg\")"
   ]
  },
  {
   "cell_type": "code",
   "execution_count": null,
   "id": "5329228b",
   "metadata": {},
   "outputs": [],
   "source": [
    "f, axs = plt.subplots(1, 2, figsize=(12, 4), gridspec_kw=dict(width_ratios=[4, 2]))\n",
    "pplot = sns.pointplot(data=df_tabu[(df_tabu['iteraciones'] == 1000) & (df_tabu['vecindad'] == 100) & (df_tabu['memoria'] == 500)].sort_values(by=['dim']), x=\"instancia\", y=\"tiempo\", hue=\"heuristica\", ax=axs[0], hue_order=['TS-C', 'TS-S'])\n",
    "bplot = sns.boxplot(data=df_tabu[(df_tabu['iteraciones'] == 1000) & (df_tabu['vecindad'] == 100) & (df_tabu['memoria'] == 500)], x=\"heuristica\", y=\"tiempo\", ax=axs[1])\n",
    "plt.setp(axs[0].xaxis.get_majorticklabels(), rotation=90)\n",
    "axs[0].grid(True)\n",
    "f.tight_layout()\n",
    "plt.savefig(\"img/tabu_mem_500_tiempo.svg\")"
   ]
  },
  {
   "cell_type": "code",
   "execution_count": null,
   "id": "fa26dd6e",
   "metadata": {},
   "outputs": [],
   "source": [
    "f, axs = plt.subplots(1, 2, figsize=(12, 4), gridspec_kw=dict(width_ratios=[4, 2]))\n",
    "pplot = sns.pointplot(data=df_tabu[(df_tabu['iteraciones'] == 1000) & (df_tabu['vecindad'] == 100) & (df_tabu['memoria'] == 1000)].sort_values(by=['dim']), x=\"instancia\", y=\"tiempo\", hue=\"heuristica\", ax=axs[0], hue_order=['TS-C', 'TS-S'])\n",
    "bplot = sns.boxplot(data=df_tabu[(df_tabu['iteraciones'] == 1000) & (df_tabu['vecindad'] == 100) & (df_tabu['memoria'] == 1000)], x=\"heuristica\", y=\"tiempo\", ax=axs[1])\n",
    "plt.setp(axs[0].xaxis.get_majorticklabels(), rotation=90)\n",
    "axs[0].grid(True)\n",
    "f.tight_layout()\n",
    "plt.savefig(\"img/tabu_mem_1000_tiempo.svg\")"
   ]
  },
  {
   "cell_type": "markdown",
   "id": "55837dbd",
   "metadata": {},
   "source": [
    "**Impacto de parámetros : Cantidad de iteraciones - Tiempo de ejecución**"
   ]
  },
  {
   "cell_type": "code",
   "execution_count": null,
   "id": "ca798126",
   "metadata": {},
   "outputs": [],
   "source": [
    "f, axs = plt.subplots(1, 2, figsize=(12, 4), gridspec_kw=dict(width_ratios=[4, 2]))\n",
    "pplot = sns.pointplot(data=df_tabu[(df_tabu['iteraciones'] == 50) & (df_tabu['vecindad'] == 100) & (df_tabu['memoria'] == 50)].sort_values(by=['dim']), x=\"instancia\", y=\"tiempo\", hue=\"heuristica\", ax=axs[0], hue_order=['TS-C', 'TS-S'])\n",
    "bplot = sns.boxplot(data=df_tabu[(df_tabu['iteraciones'] == 50) & (df_tabu['vecindad'] == 100) & (df_tabu['memoria'] == 50)], x=\"heuristica\", y=\"tiempo\", ax=axs[1])\n",
    "plt.setp(axs[0].xaxis.get_majorticklabels(), rotation=90)\n",
    "axs[0].grid(True)\n",
    "f.tight_layout()\n",
    "plt.savefig(\"img/tabu_iteraciones_50_tiempo.svg\")"
   ]
  },
  {
   "cell_type": "code",
   "execution_count": null,
   "id": "29015c32",
   "metadata": {},
   "outputs": [],
   "source": [
    "f, axs = plt.subplots(1, 2, figsize=(12, 4), gridspec_kw=dict(width_ratios=[4, 2]))\n",
    "pplot = sns.pointplot(data=df_tabu[(df_tabu['iteraciones'] == 100) & (df_tabu['vecindad'] == 100) & (df_tabu['memoria'] == 50)].sort_values(by=['dim']), x=\"instancia\", y=\"tiempo\", hue=\"heuristica\", ax=axs[0], hue_order=['TS-C', 'TS-S'])\n",
    "bplot = sns.boxplot(data=df_tabu[(df_tabu['iteraciones'] == 100) & (df_tabu['vecindad'] == 100) & (df_tabu['memoria'] == 50)], x=\"heuristica\", y=\"tiempo\", ax=axs[1])\n",
    "plt.setp(axs[0].xaxis.get_majorticklabels(), rotation=90)\n",
    "axs[0].grid(True)\n",
    "f.tight_layout()\n",
    "plt.savefig(\"img/tabu_iteraciones_100_tiempo.svg\")"
   ]
  },
  {
   "cell_type": "code",
   "execution_count": null,
   "id": "d520a9f6",
   "metadata": {},
   "outputs": [],
   "source": [
    "f, axs = plt.subplots(1, 2, figsize=(12, 4), gridspec_kw=dict(width_ratios=[4, 2]))\n",
    "pplot = sns.pointplot(data=df_tabu[(df_tabu['iteraciones'] == 200) & (df_tabu['vecindad'] == 100) & (df_tabu['memoria'] == 50)].sort_values(by=['dim']), x=\"instancia\", y=\"tiempo\", hue=\"heuristica\", ax=axs[0], hue_order=['TS-C', 'TS-S'])\n",
    "bplot = sns.boxplot(data=df_tabu[(df_tabu['iteraciones'] == 200) & (df_tabu['vecindad'] == 100) & (df_tabu['memoria'] == 50)], x=\"heuristica\", y=\"tiempo\", ax=axs[1])\n",
    "plt.setp(axs[0].xaxis.get_majorticklabels(), rotation=90)\n",
    "axs[0].grid(True)\n",
    "f.tight_layout()\n",
    "plt.savefig(\"img/tabu_iteraciones_200_tiempo.svg\")"
   ]
  },
  {
   "cell_type": "code",
   "execution_count": null,
   "id": "4c580f23",
   "metadata": {},
   "outputs": [],
   "source": [
    "f, axs = plt.subplots(1, 2, figsize=(12, 4), gridspec_kw=dict(width_ratios=[4, 2]))\n",
    "pplot = sns.pointplot(data=df_tabu[(df_tabu['iteraciones'] == 500) & (df_tabu['vecindad'] == 100) & (df_tabu['memoria'] == 50)].sort_values(by=['dim']), x=\"instancia\", y=\"tiempo\", hue=\"heuristica\", ax=axs[0], hue_order=['TS-C', 'TS-S'])\n",
    "bplot = sns.boxplot(data=df_tabu[(df_tabu['iteraciones'] == 500) & (df_tabu['vecindad'] == 100) & (df_tabu['memoria'] == 50)], x=\"heuristica\", y=\"tiempo\", ax=axs[1])\n",
    "plt.setp(axs[0].xaxis.get_majorticklabels(), rotation=90)\n",
    "axs[0].grid(True)\n",
    "f.tight_layout()\n",
    "plt.savefig(\"img/tabu_iteraciones_500_tiempo.svg\")"
   ]
  },
  {
   "cell_type": "code",
   "execution_count": null,
   "id": "2ddcc986",
   "metadata": {},
   "outputs": [],
   "source": [
    "f, axs = plt.subplots(1, 2, figsize=(12, 4), gridspec_kw=dict(width_ratios=[4, 2]))\n",
    "pplot = sns.pointplot(data=df_tabu[(df_tabu['iteraciones'] == 1000) & (df_tabu['vecindad'] == 100) & (df_tabu['memoria'] == 50)].sort_values(by=['dim']), x=\"instancia\", y=\"tiempo\", hue=\"heuristica\", ax=axs[0], hue_order=['TS-C', 'TS-S'])\n",
    "bplot = sns.boxplot(data=df_tabu[(df_tabu['iteraciones'] == 1000) & (df_tabu['vecindad'] == 100) & (df_tabu['memoria'] == 50)], x=\"heuristica\", y=\"tiempo\", ax=axs[1])\n",
    "plt.setp(axs[0].xaxis.get_majorticklabels(), rotation=90)\n",
    "axs[0].grid(True)\n",
    "f.tight_layout()\n",
    "plt.savefig(\"img/tabu_iteraciones_1000_tiempo.svg\")"
   ]
  },
  {
   "cell_type": "markdown",
   "id": "c062cf2c",
   "metadata": {},
   "source": [
    "**Impacto de parámetros : Cantidad de iteraciones - Gap relativo**"
   ]
  },
  {
   "cell_type": "code",
   "execution_count": null,
   "id": "136cf10a",
   "metadata": {},
   "outputs": [],
   "source": [
    "f, axs = plt.subplots(1, 2, figsize=(12, 4), gridspec_kw=dict(width_ratios=[4, 2]))\n",
    "pplot = sns.pointplot(data=df_tabu[(df_tabu['iteraciones'] == 50) & (df_tabu['vecindad'] == 100) & (df_tabu['memoria'] == 50)].sort_values(by=['dim']), x=\"instancia\", y=\"gap\", hue=\"heuristica\", ax=axs[0], hue_order=['TS-C', 'TS-S'])\n",
    "bplot = sns.boxplot(data=df_tabu[(df_tabu['iteraciones'] == 50) & (df_tabu['vecindad'] == 100) & (df_tabu['memoria'] == 50)], x=\"heuristica\", y=\"gap\", ax=axs[1])\n",
    "plt.setp(axs[0].xaxis.get_majorticklabels(), rotation=90)\n",
    "axs[0].grid(True)\n",
    "f.tight_layout()\n",
    "plt.savefig(\"img/tabu_iteraciones_50_gap.svg\")"
   ]
  },
  {
   "cell_type": "code",
   "execution_count": null,
   "id": "2de3ed83",
   "metadata": {},
   "outputs": [],
   "source": [
    "f, axs = plt.subplots(1, 2, figsize=(12, 4), gridspec_kw=dict(width_ratios=[4, 2]))\n",
    "pplot = sns.pointplot(data=df_tabu[(df_tabu['iteraciones'] == 100) & (df_tabu['vecindad'] == 100) & (df_tabu['memoria'] == 50)].sort_values(by=['dim']), x=\"instancia\", y=\"gap\", hue=\"heuristica\", ax=axs[0], hue_order=['TS-C', 'TS-S'])\n",
    "bplot = sns.boxplot(data=df_tabu[(df_tabu['iteraciones'] == 100) & (df_tabu['vecindad'] == 100) & (df_tabu['memoria'] == 50)], x=\"heuristica\", y=\"gap\", ax=axs[1])\n",
    "plt.setp(axs[0].xaxis.get_majorticklabels(), rotation=90)\n",
    "axs[0].grid(True)\n",
    "f.tight_layout()\n",
    "plt.savefig(\"img/tabu_iteraciones_100_gap.svg\")"
   ]
  },
  {
   "cell_type": "code",
   "execution_count": null,
   "id": "61d49b76",
   "metadata": {},
   "outputs": [],
   "source": [
    "f, axs = plt.subplots(1, 2, figsize=(12, 4), gridspec_kw=dict(width_ratios=[4, 2]))\n",
    "pplot = sns.pointplot(data=df_tabu[(df_tabu['iteraciones'] == 200) & (df_tabu['vecindad'] == 100) & (df_tabu['memoria'] == 50)].sort_values(by=['dim']), x=\"instancia\", y=\"gap\", hue=\"heuristica\", ax=axs[0], hue_order=['TS-C', 'TS-S'])\n",
    "bplot = sns.boxplot(data=df_tabu[(df_tabu['iteraciones'] == 200) & (df_tabu['vecindad'] == 100) & (df_tabu['memoria'] == 50)], x=\"heuristica\", y=\"gap\", ax=axs[1])\n",
    "plt.setp(axs[0].xaxis.get_majorticklabels(), rotation=90)\n",
    "axs[0].grid(True)\n",
    "f.tight_layout()\n",
    "plt.savefig(\"img/tabu_iteraciones_200_gap.svg\")"
   ]
  },
  {
   "cell_type": "code",
   "execution_count": null,
   "id": "acb28305",
   "metadata": {},
   "outputs": [],
   "source": [
    "f, axs = plt.subplots(1, 2, figsize=(12, 4), gridspec_kw=dict(width_ratios=[4, 2]))\n",
    "pplot = sns.pointplot(data=df_tabu[(df_tabu['iteraciones'] == 500) & (df_tabu['vecindad'] == 100) & (df_tabu['memoria'] == 50)].sort_values(by=['dim']), x=\"instancia\", y=\"gap\", hue=\"heuristica\", ax=axs[0], hue_order=['TS-C', 'TS-S'])\n",
    "bplot = sns.boxplot(data=df_tabu[(df_tabu['iteraciones'] == 500) & (df_tabu['vecindad'] == 100) & (df_tabu['memoria'] == 50)], x=\"heuristica\", y=\"gap\", ax=axs[1])\n",
    "plt.setp(axs[0].xaxis.get_majorticklabels(), rotation=90)\n",
    "axs[0].grid(True)\n",
    "f.tight_layout()\n",
    "plt.savefig(\"img/tabu_iteraciones_500_gap.svg\")"
   ]
  },
  {
   "cell_type": "code",
   "execution_count": null,
   "id": "5a5658ea",
   "metadata": {},
   "outputs": [],
   "source": [
    "f, axs = plt.subplots(1, 2, figsize=(12, 4), gridspec_kw=dict(width_ratios=[4, 2]))\n",
    "pplot = sns.pointplot(data=df_tabu[(df_tabu['iteraciones'] == 1000) & (df_tabu['vecindad'] == 100) & (df_tabu['memoria'] == 50)].sort_values(by=['dim']), x=\"instancia\", y=\"gap\", hue=\"heuristica\", ax=axs[0], hue_order=['TS-C', 'TS-S'])\n",
    "bplot = sns.boxplot(data=df_tabu[(df_tabu['iteraciones'] == 1000) & (df_tabu['vecindad'] == 100) & (df_tabu['memoria'] == 50)], x=\"heuristica\", y=\"gap\", ax=axs[1])\n",
    "plt.setp(axs[0].xaxis.get_majorticklabels(), rotation=90)\n",
    "axs[0].grid(True)\n",
    "f.tight_layout()\n",
    "plt.savefig(\"img/tabu_iteraciones_1000_gap.svg\")"
   ]
  },
  {
   "cell_type": "markdown",
   "id": "29876090",
   "metadata": {},
   "source": [
    "**Impacto de parámetros : Porcentaje de vecindad - Tiempo de ejecución**"
   ]
  },
  {
   "cell_type": "code",
   "execution_count": null,
   "id": "6fd07768",
   "metadata": {},
   "outputs": [],
   "source": [
    "f, axs = plt.subplots(1, 2, figsize=(12, 4), gridspec_kw=dict(width_ratios=[4, 2]))\n",
    "pplot = sns.pointplot(data=df_tabu[(df_tabu['iteraciones'] == 1000) & (df_tabu['vecindad'] == 10) & (df_tabu['memoria'] == 50)].sort_values(by=['dim']), x=\"instancia\", y=\"tiempo\", hue=\"heuristica\", ax=axs[0], hue_order=['TS-C', 'TS-S'])\n",
    "bplot = sns.boxplot(data=df_tabu[(df_tabu['iteraciones'] == 1000) & (df_tabu['vecindad'] == 10) & (df_tabu['memoria'] == 50)], x=\"heuristica\", y=\"tiempo\", ax=axs[1])\n",
    "plt.setp(axs[0].xaxis.get_majorticklabels(), rotation=90)\n",
    "axs[0].grid(True)\n",
    "f.tight_layout()\n",
    "plt.savefig(\"img/tabu_vecindad_10_tiempo.svg\")"
   ]
  },
  {
   "cell_type": "code",
   "execution_count": null,
   "id": "a894a7e3",
   "metadata": {},
   "outputs": [],
   "source": [
    "f, axs = plt.subplots(1, 2, figsize=(12, 4), gridspec_kw=dict(width_ratios=[4, 2]))\n",
    "pplot = sns.pointplot(data=df_tabu[(df_tabu['iteraciones'] == 1000) & (df_tabu['vecindad'] == 20) & (df_tabu['memoria'] == 50)].sort_values(by=['dim']), x=\"instancia\", y=\"tiempo\", hue=\"heuristica\", ax=axs[0], hue_order=['TS-C', 'TS-S'])\n",
    "bplot = sns.boxplot(data=df_tabu[(df_tabu['iteraciones'] == 1000) & (df_tabu['vecindad'] == 20) & (df_tabu['memoria'] == 50)], x=\"heuristica\", y=\"tiempo\", ax=axs[1])\n",
    "plt.setp(axs[0].xaxis.get_majorticklabels(), rotation=90)\n",
    "axs[0].grid(True)\n",
    "f.tight_layout()\n",
    "plt.savefig(\"img/tabu_vecindad_20_tiempo.svg\")"
   ]
  },
  {
   "cell_type": "code",
   "execution_count": null,
   "id": "bcd4d14c",
   "metadata": {},
   "outputs": [],
   "source": [
    "f, axs = plt.subplots(1, 2, figsize=(12, 4), gridspec_kw=dict(width_ratios=[4, 2]))\n",
    "pplot = sns.pointplot(data=df_tabu[(df_tabu['iteraciones'] == 1000) & (df_tabu['vecindad'] == 50) & (df_tabu['memoria'] == 50)].sort_values(by=['dim']), x=\"instancia\", y=\"tiempo\", hue=\"heuristica\", ax=axs[0], hue_order=['TS-C', 'TS-S'])\n",
    "bplot = sns.boxplot(data=df_tabu[(df_tabu['iteraciones'] == 1000) & (df_tabu['vecindad'] == 50) & (df_tabu['memoria'] == 50)], x=\"heuristica\", y=\"tiempo\", ax=axs[1])\n",
    "plt.setp(axs[0].xaxis.get_majorticklabels(), rotation=90)\n",
    "axs[0].grid(True)\n",
    "f.tight_layout()\n",
    "plt.savefig(\"img/tabu_vecindad_50_tiempo.svg\")"
   ]
  },
  {
   "cell_type": "code",
   "execution_count": null,
   "id": "c159f33e",
   "metadata": {},
   "outputs": [],
   "source": [
    "f, axs = plt.subplots(1, 2, figsize=(12, 4), gridspec_kw=dict(width_ratios=[4, 2]))\n",
    "pplot = sns.pointplot(data=df_tabu[(df_tabu['iteraciones'] == 1000) & (df_tabu['vecindad'] == 80) & (df_tabu['memoria'] == 50)].sort_values(by=['dim']), x=\"instancia\", y=\"tiempo\", hue=\"heuristica\", ax=axs[0], hue_order=['TS-C', 'TS-S'])\n",
    "bplot = sns.boxplot(data=df_tabu[(df_tabu['iteraciones'] == 1000) & (df_tabu['vecindad'] == 80) & (df_tabu['memoria'] == 50)], x=\"heuristica\", y=\"tiempo\", ax=axs[1])\n",
    "plt.setp(axs[0].xaxis.get_majorticklabels(), rotation=90)\n",
    "axs[0].grid(True)\n",
    "f.tight_layout()\n",
    "plt.savefig(\"img/tabu_vecindad_80_tiempo.svg\")"
   ]
  },
  {
   "cell_type": "code",
   "execution_count": null,
   "id": "ba639433",
   "metadata": {},
   "outputs": [],
   "source": [
    "f, axs = plt.subplots(1, 2, figsize=(12, 4), gridspec_kw=dict(width_ratios=[4, 2]))\n",
    "pplot = sns.pointplot(data=df_tabu[(df_tabu['iteraciones'] == 1000) & (df_tabu['vecindad'] == 100) & (df_tabu['memoria'] == 50)].sort_values(by=['dim']), x=\"instancia\", y=\"tiempo\", hue=\"heuristica\", ax=axs[0], hue_order=['TS-C', 'TS-S'])\n",
    "bplot = sns.boxplot(data=df_tabu[(df_tabu['iteraciones'] == 1000) & (df_tabu['vecindad'] == 100) & (df_tabu['memoria'] == 50)], x=\"heuristica\", y=\"tiempo\", ax=axs[1])\n",
    "plt.setp(axs[0].xaxis.get_majorticklabels(), rotation=90)\n",
    "axs[0].grid(True)\n",
    "f.tight_layout()\n",
    "plt.savefig(\"img/tabu_vecindad_100_tiempo.svg\")"
   ]
  },
  {
   "cell_type": "markdown",
   "id": "90164db1",
   "metadata": {},
   "source": [
    "**Impacto de parámetros : Porcentaje de vecindad - Gap**"
   ]
  },
  {
   "cell_type": "code",
   "execution_count": null,
   "id": "85b3e694",
   "metadata": {},
   "outputs": [],
   "source": [
    "f, axs = plt.subplots(1, 2, figsize=(12, 4), gridspec_kw=dict(width_ratios=[4, 2]))\n",
    "pplot = sns.pointplot(data=df_tabu[(df_tabu['iteraciones'] == 1000) & (df_tabu['vecindad'] == 10) & (df_tabu['memoria'] == 50)].sort_values(by=['dim']), x=\"instancia\", y=\"gap\", hue=\"heuristica\", ax=axs[0], hue_order=['TS-C', 'TS-S'])\n",
    "bplot = sns.boxplot(data=df_tabu[(df_tabu['iteraciones'] == 1000) & (df_tabu['vecindad'] == 10) & (df_tabu['memoria'] == 50)], x=\"heuristica\", y=\"gap\", ax=axs[1])\n",
    "plt.setp(axs[0].xaxis.get_majorticklabels(), rotation=90)\n",
    "axs[0].grid(True)\n",
    "f.tight_layout()\n",
    "plt.savefig(\"img/tabu_vecindad_10_gap.svg\")"
   ]
  },
  {
   "cell_type": "code",
   "execution_count": null,
   "id": "4df151fc",
   "metadata": {},
   "outputs": [],
   "source": [
    "f, axs = plt.subplots(1, 2, figsize=(12, 4), gridspec_kw=dict(width_ratios=[4, 2]))\n",
    "pplot = sns.pointplot(data=df_tabu[(df_tabu['iteraciones'] == 1000) & (df_tabu['vecindad'] == 20) & (df_tabu['memoria'] == 50)].sort_values(by=['dim']), x=\"instancia\", y=\"gap\", hue=\"heuristica\", ax=axs[0], hue_order=['TS-C', 'TS-S'])\n",
    "bplot = sns.boxplot(data=df_tabu[(df_tabu['iteraciones'] == 1000) & (df_tabu['vecindad'] == 20) & (df_tabu['memoria'] == 50)], x=\"heuristica\", y=\"gap\", ax=axs[1])\n",
    "plt.setp(axs[0].xaxis.get_majorticklabels(), rotation=90)\n",
    "axs[0].grid(True)\n",
    "f.tight_layout()\n",
    "plt.savefig(\"img/tabu_vecindad_20_gap.svg\")"
   ]
  },
  {
   "cell_type": "code",
   "execution_count": null,
   "id": "35e9ff6c",
   "metadata": {},
   "outputs": [],
   "source": [
    "f, axs = plt.subplots(1, 2, figsize=(12, 4), gridspec_kw=dict(width_ratios=[4, 2]))\n",
    "pplot = sns.pointplot(data=df_tabu[(df_tabu['iteraciones'] == 1000) & (df_tabu['vecindad'] == 50) & (df_tabu['memoria'] == 50)].sort_values(by=['dim']), x=\"instancia\", y=\"gap\", hue=\"heuristica\", ax=axs[0], hue_order=['TS-C', 'TS-S'])\n",
    "bplot = sns.boxplot(data=df_tabu[(df_tabu['iteraciones'] == 1000) & (df_tabu['vecindad'] == 50) & (df_tabu['memoria'] == 50)], x=\"heuristica\", y=\"gap\", ax=axs[1])\n",
    "plt.setp(axs[0].xaxis.get_majorticklabels(), rotation=90)\n",
    "axs[0].grid(True)\n",
    "f.tight_layout()\n",
    "plt.savefig(\"img/tabu_vecindad_50_gap.svg\")"
   ]
  },
  {
   "cell_type": "code",
   "execution_count": null,
   "id": "682366eb",
   "metadata": {},
   "outputs": [],
   "source": [
    "f, axs = plt.subplots(1, 2, figsize=(12, 4), gridspec_kw=dict(width_ratios=[4, 2]))\n",
    "pplot = sns.pointplot(data=df_tabu[(df_tabu['iteraciones'] == 1000) & (df_tabu['vecindad'] == 80) & (df_tabu['memoria'] == 50)].sort_values(by=['dim']), x=\"instancia\", y=\"gap\", hue=\"heuristica\", ax=axs[0], hue_order=['TS-C', 'TS-S'])\n",
    "bplot = sns.boxplot(data=df_tabu[(df_tabu['iteraciones'] == 1000) & (df_tabu['vecindad'] == 80) & (df_tabu['memoria'] == 50)], x=\"heuristica\", y=\"gap\", ax=axs[1])\n",
    "plt.setp(axs[0].xaxis.get_majorticklabels(), rotation=90)\n",
    "axs[0].grid(True)\n",
    "f.tight_layout()\n",
    "plt.savefig(\"img/tabu_vecindad_80_gap.svg\")"
   ]
  },
  {
   "cell_type": "code",
   "execution_count": null,
   "id": "550e0d7d",
   "metadata": {},
   "outputs": [],
   "source": [
    "f, axs = plt.subplots(1, 2, figsize=(12, 4), gridspec_kw=dict(width_ratios=[4, 2]))\n",
    "pplot = sns.pointplot(data=df_tabu[(df_tabu['iteraciones'] == 1000) & (df_tabu['vecindad'] == 100) & (df_tabu['memoria'] == 50)].sort_values(by=['dim']), x=\"instancia\", y=\"gap\", hue=\"heuristica\", ax=axs[0], hue_order=['TS-C', 'TS-S'])\n",
    "bplot = sns.boxplot(data=df_tabu[(df_tabu['iteraciones'] == 1000) & (df_tabu['vecindad'] == 100) & (df_tabu['memoria'] == 50)], x=\"heuristica\", y=\"gap\", ax=axs[1])\n",
    "plt.setp(axs[0].xaxis.get_majorticklabels(), rotation=90)\n",
    "axs[0].grid(True)\n",
    "f.tight_layout()\n",
    "plt.savefig(\"img/tabu_vecindad_100_gap.svg\")"
   ]
  },
  {
   "cell_type": "markdown",
   "id": "32937cfe",
   "metadata": {},
   "source": [
    "**TabuSearch : Análisis de parámetros óptimos**"
   ]
  },
  {
   "cell_type": "code",
   "execution_count": null,
   "id": "c48b6713",
   "metadata": {},
   "outputs": [],
   "source": [
    "P = 20\n",
    "M = 100\n",
    "K = 200\n",
    "\n",
    "df_total = df_tabu[(df_tabu['vecindad'] == P) & (df_tabu['memoria'] == M) & (df_tabu['iteraciones'] == K)]\n",
    "df_total = df_total.append(df_greedy, ignore_index=True)\n",
    "df_total.dropna(axis=1, inplace=True)\n",
    "df_total = df_total.astype({'dim': 'int64', 'tiempo': 'float64', 'costo': 'int64', 'gap':'float64'})"
   ]
  },
  {
   "cell_type": "code",
   "execution_count": null,
   "id": "c5c05a3c",
   "metadata": {},
   "outputs": [],
   "source": [
    "plt.figure(figsize=(15,8))\n",
    "ax = sns.pointplot(data=df_total.sort_values(by=['dim']), x=\"instancia\", y=\"gap\", hue=\"heuristica\", hue_order=['NN', 'FI', 'AGM', 'TS-C', 'TS-S'])\n",
    "plt.xticks(rotation=90)\n",
    "ax.grid(True)\n",
    "plt.savefig(\"img/tabu_greedy_optimos_gap.svg\")"
   ]
  },
  {
   "cell_type": "code",
   "execution_count": null,
   "id": "8bb9efa5",
   "metadata": {},
   "outputs": [],
   "source": [
    "plt.figure(figsize=(15,8))\n",
    "ax = sns.pointplot(data=df_total.sort_values(by=['dim']), x=\"instancia\", y=\"tiempo\", hue=\"heuristica\", hue_order=['NN', 'FI', 'AGM', 'TS-C', 'TS-S'])\n",
    "plt.xticks(rotation=90)\n",
    "ax.set_ylabel('tiempo (ms)')\n",
    "ax.grid(True)\n",
    "plt.savefig(\"img/tabu_greedy_optimos_tiempo.svg\")"
   ]
  },
  {
   "cell_type": "markdown",
   "id": "c970c3e0",
   "metadata": {},
   "source": [
    "**Análisis para instancias de testing**"
   ]
  },
  {
   "cell_type": "code",
   "execution_count": null,
   "id": "e07fb637",
   "metadata": {},
   "outputs": [],
   "source": [
    "tsp.generar_instancia('./i_tsp/kroA150.tsp', './i_txt/kroA150.txt')\n",
    "tsp.generar_instancia('./i_tsp/u574.tsp', './i_txt/u574.txt')\n",
    "tsp.generar_instancia('./i_tsp/pcb1173.tsp', './i_txt/pcb1173.txt')"
   ]
  },
  {
   "cell_type": "code",
   "execution_count": null,
   "id": "fbd19ed5",
   "metadata": {},
   "outputs": [],
   "source": [
    "df = pd.DataFrame()\n",
    "inst = {\n",
    "        'kroA150' : [150, 26524],\n",
    "        'u574' : [574, 36905],\n",
    "        'pcb1173' : [1173, 56892],\n",
    "    }\n",
    "greedy = ['NN', 'FI', 'AGM']\n",
    "tabu = ['TS-C', 'TS-S']\n",
    "\n",
    "for k,v in inst.items():\n",
    "    for h in tqdm.tqdm(greedy):\n",
    "        if h in greedy:\n",
    "            costo, tiempo = tsp.run(h, f'./i_txt/{k}.txt')\n",
    "        else:\n",
    "            costo, tiempo = tsp.run(h, f'./i_txt/{k}.txt', 200, 100, 20)\n",
    "        entry = {\n",
    "                'instancia' : k,\n",
    "                'dim' : v[0],\n",
    "                'heuristica' : h,\n",
    "                'tiempo' : tiempo,\n",
    "                'costo' : costo,\n",
    "                'gap' : (costo - v[1]) / v[1],\n",
    "            }\n",
    "        df = df.append(entry, ignore_index=True)\n",
    "    df.to_csv('test_parciales.csv', index=False)\n",
    "df.to_csv('test_finales.csv', index=False)"
   ]
  }
 ],
 "metadata": {
  "kernelspec": {
   "display_name": "Python 3.9.3 64-bit ('algo3-tp1': venv)",
   "language": "python",
   "name": "python39364bitalgo3tp1venv54ff8ce56bdc45bab5a277cf08d2b074"
  },
  "language_info": {
   "codemirror_mode": {
    "name": "ipython",
    "version": 3
   },
   "file_extension": ".py",
   "mimetype": "text/x-python",
   "name": "python",
   "nbconvert_exporter": "python",
   "pygments_lexer": "ipython3",
   "version": "3.9.5"
  }
 },
 "nbformat": 4,
 "nbformat_minor": 5
}
